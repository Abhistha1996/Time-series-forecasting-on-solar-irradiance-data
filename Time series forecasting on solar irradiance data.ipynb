{
 "cells": [
  {
   "cell_type": "code",
   "execution_count": 1,
   "metadata": {},
   "outputs": [],
   "source": [
    "#!pip install pmdarima"
   ]
  },
  {
   "cell_type": "code",
   "execution_count": 2,
   "metadata": {},
   "outputs": [],
   "source": [
    "#importing the relevant libraries\n",
    "import pandas as pd\n",
    "import numpy as np\n",
    "from sklearn.metrics import mean_squared_error\n",
    "from math import sqrt\n",
    "from statsmodels.tsa.stattools import adfuller\n",
    "from sklearn.metrics import r2_score \n",
    "\n",
    "from warnings import simplefilter\n",
    "simplefilter(\"ignore\", FutureWarning)\n"
   ]
  },
  {
   "cell_type": "code",
   "execution_count": 3,
   "metadata": {},
   "outputs": [
    {
     "data": {
      "text/html": [
       "<div>\n",
       "<style scoped>\n",
       "    .dataframe tbody tr th:only-of-type {\n",
       "        vertical-align: middle;\n",
       "    }\n",
       "\n",
       "    .dataframe tbody tr th {\n",
       "        vertical-align: top;\n",
       "    }\n",
       "\n",
       "    .dataframe thead th {\n",
       "        text-align: right;\n",
       "    }\n",
       "</style>\n",
       "<table border=\"1\" class=\"dataframe\">\n",
       "  <thead>\n",
       "    <tr style=\"text-align: right;\">\n",
       "      <th></th>\n",
       "      <th>date</th>\n",
       "      <th>time</th>\n",
       "      <th>irradiance</th>\n",
       "      <th>ambient_temp</th>\n",
       "      <th>wind_speed</th>\n",
       "    </tr>\n",
       "    <tr>\n",
       "      <th>date_time</th>\n",
       "      <th></th>\n",
       "      <th></th>\n",
       "      <th></th>\n",
       "      <th></th>\n",
       "      <th></th>\n",
       "    </tr>\n",
       "  </thead>\n",
       "  <tbody>\n",
       "    <tr>\n",
       "      <th>2020-08-20 06:05:00+05:30</th>\n",
       "      <td>20-08-2020</td>\n",
       "      <td>06:05:00</td>\n",
       "      <td>0</td>\n",
       "      <td>28.58</td>\n",
       "      <td>6.33</td>\n",
       "    </tr>\n",
       "    <tr>\n",
       "      <th>2020-08-20 06:10:00+05:30</th>\n",
       "      <td>20-08-2020</td>\n",
       "      <td>06:10:00</td>\n",
       "      <td>0</td>\n",
       "      <td>28.57</td>\n",
       "      <td>6.26</td>\n",
       "    </tr>\n",
       "    <tr>\n",
       "      <th>2020-08-20 06:15:00+05:30</th>\n",
       "      <td>20-08-2020</td>\n",
       "      <td>06:15:00</td>\n",
       "      <td>0</td>\n",
       "      <td>28.57</td>\n",
       "      <td>6.18</td>\n",
       "    </tr>\n",
       "    <tr>\n",
       "      <th>2020-08-20 06:20:00+05:30</th>\n",
       "      <td>20-08-2020</td>\n",
       "      <td>06:20:00</td>\n",
       "      <td>0</td>\n",
       "      <td>28.56</td>\n",
       "      <td>6.11</td>\n",
       "    </tr>\n",
       "    <tr>\n",
       "      <th>2020-08-20 06:25:00+05:30</th>\n",
       "      <td>20-08-2020</td>\n",
       "      <td>06:25:00</td>\n",
       "      <td>0</td>\n",
       "      <td>28.56</td>\n",
       "      <td>6.03</td>\n",
       "    </tr>\n",
       "    <tr>\n",
       "      <th>...</th>\n",
       "      <td>...</td>\n",
       "      <td>...</td>\n",
       "      <td>...</td>\n",
       "      <td>...</td>\n",
       "      <td>...</td>\n",
       "    </tr>\n",
       "    <tr>\n",
       "      <th>2020-10-20 11:40:00+05:30</th>\n",
       "      <td>20-10-2020</td>\n",
       "      <td>11:40:00</td>\n",
       "      <td>322</td>\n",
       "      <td>30.24</td>\n",
       "      <td>3.10</td>\n",
       "    </tr>\n",
       "    <tr>\n",
       "      <th>2020-10-20 11:45:00+05:30</th>\n",
       "      <td>20-10-2020</td>\n",
       "      <td>11:45:00</td>\n",
       "      <td>322</td>\n",
       "      <td>30.25</td>\n",
       "      <td>3.14</td>\n",
       "    </tr>\n",
       "    <tr>\n",
       "      <th>2020-10-20 11:50:00+05:30</th>\n",
       "      <td>20-10-2020</td>\n",
       "      <td>11:50:00</td>\n",
       "      <td>322</td>\n",
       "      <td>30.26</td>\n",
       "      <td>3.19</td>\n",
       "    </tr>\n",
       "    <tr>\n",
       "      <th>2020-10-20 11:55:00+05:30</th>\n",
       "      <td>20-10-2020</td>\n",
       "      <td>11:55:00</td>\n",
       "      <td>322</td>\n",
       "      <td>30.26</td>\n",
       "      <td>3.24</td>\n",
       "    </tr>\n",
       "    <tr>\n",
       "      <th>2020-10-20 12:00:00+05:30</th>\n",
       "      <td>20-10-2020</td>\n",
       "      <td>12:00:00</td>\n",
       "      <td>322</td>\n",
       "      <td>30.27</td>\n",
       "      <td>3.28</td>\n",
       "    </tr>\n",
       "  </tbody>\n",
       "</table>\n",
       "<p>2952 rows × 5 columns</p>\n",
       "</div>"
      ],
      "text/plain": [
       "                                 date      time  irradiance  ambient_temp  \\\n",
       "date_time                                                                   \n",
       "2020-08-20 06:05:00+05:30  20-08-2020  06:05:00           0         28.58   \n",
       "2020-08-20 06:10:00+05:30  20-08-2020  06:10:00           0         28.57   \n",
       "2020-08-20 06:15:00+05:30  20-08-2020  06:15:00           0         28.57   \n",
       "2020-08-20 06:20:00+05:30  20-08-2020  06:20:00           0         28.56   \n",
       "2020-08-20 06:25:00+05:30  20-08-2020  06:25:00           0         28.56   \n",
       "...                               ...       ...         ...           ...   \n",
       "2020-10-20 11:40:00+05:30  20-10-2020  11:40:00         322         30.24   \n",
       "2020-10-20 11:45:00+05:30  20-10-2020  11:45:00         322         30.25   \n",
       "2020-10-20 11:50:00+05:30  20-10-2020  11:50:00         322         30.26   \n",
       "2020-10-20 11:55:00+05:30  20-10-2020  11:55:00         322         30.26   \n",
       "2020-10-20 12:00:00+05:30  20-10-2020  12:00:00         322         30.27   \n",
       "\n",
       "                           wind_speed  \n",
       "date_time                              \n",
       "2020-08-20 06:05:00+05:30        6.33  \n",
       "2020-08-20 06:10:00+05:30        6.26  \n",
       "2020-08-20 06:15:00+05:30        6.18  \n",
       "2020-08-20 06:20:00+05:30        6.11  \n",
       "2020-08-20 06:25:00+05:30        6.03  \n",
       "...                               ...  \n",
       "2020-10-20 11:40:00+05:30        3.10  \n",
       "2020-10-20 11:45:00+05:30        3.14  \n",
       "2020-10-20 11:50:00+05:30        3.19  \n",
       "2020-10-20 11:55:00+05:30        3.24  \n",
       "2020-10-20 12:00:00+05:30        3.28  \n",
       "\n",
       "[2952 rows x 5 columns]"
      ]
     },
     "execution_count": 3,
     "metadata": {},
     "output_type": "execute_result"
    }
   ],
   "source": [
    "#Reading the 1st dataset, Setting the date_time column as index\n",
    "cell_=pd.read_csv(\"climacell_data_formodel.csv\",index_col='date_time',parse_dates=True)\n",
    "cell=cell_\n",
    "cell"
   ]
  },
  {
   "cell_type": "code",
   "execution_count": 4,
   "metadata": {},
   "outputs": [],
   "source": [
    "#Reading the 2nd Dataset, Default index\n",
    "weather_=pd.read_csv(\"weather_data_from_plant.csv\")\n",
    "weather=weather_"
   ]
  },
  {
   "cell_type": "code",
   "execution_count": 5,
   "metadata": {},
   "outputs": [],
   "source": [
    "#Applying data wrangling and engineering techniques to bring the datetime column of the 2nd dataset within the proper format\n",
    "\n",
    "weather[\"date\"]=weather.date_time.str.split('T').str[0]+\" \"\n",
    "weather[\"time_\"]=weather.date_time.str.split('T').str[1]\n",
    "weather[\"time\"]=weather.time_.str.split('.').str[0]+\"+5:30\"\n",
    "weather[\"date_time\"]=weather[\"date\"]+weather[\"time\"]\n",
    "weather.drop([\"date\",\"time\",\"time_\"],axis=1,inplace=True)"
   ]
  },
  {
   "cell_type": "code",
   "execution_count": 6,
   "metadata": {},
   "outputs": [],
   "source": [
    "#Converting the string to datetime format\n",
    "weather[\"date_time\"]=pd.to_datetime(weather[\"date_time\"])\n"
   ]
  },
  {
   "cell_type": "code",
   "execution_count": 7,
   "metadata": {},
   "outputs": [
    {
     "name": "stdout",
     "output_type": "stream",
     "text": [
      "date_time       0\n",
      "ambient_temp    0\n",
      "wind_speed      0\n",
      "irradiance      0\n",
      "dtype: int64 date            0\n",
      "time            0\n",
      "irradiance      0\n",
      "ambient_temp    0\n",
      "wind_speed      0\n",
      "dtype: int64\n"
     ]
    }
   ],
   "source": [
    "#checking for any null values within the datset\n",
    "print(weather.isnull().sum(),cell.isnull().sum())"
   ]
  },
  {
   "cell_type": "code",
   "execution_count": 8,
   "metadata": {
    "scrolled": false
   },
   "outputs": [
    {
     "name": "stdout",
     "output_type": "stream",
     "text": [
      "(79912, 4) (2952, 5)\n"
     ]
    }
   ],
   "source": [
    "#checking the shape of the datset to have an idea about the dimentions\n",
    "print(weather.shape,cell.shape)"
   ]
  },
  {
   "cell_type": "code",
   "execution_count": 9,
   "metadata": {
    "scrolled": true
   },
   "outputs": [],
   "source": [
    "#setting datetime as index because the resample method requires DatetimeIndex\n",
    "weather = weather.set_index(\"date_time\")\n"
   ]
  },
  {
   "cell_type": "code",
   "execution_count": 10,
   "metadata": {},
   "outputs": [],
   "source": [
    "#resampling into 5 mins interval (similar to the cell dataset)\n",
    "y=weather[\"irradiance\"].resample('5T').mean()\n",
    "#converting back to dataframe\n",
    "y=pd.DataFrame(y)"
   ]
  },
  {
   "cell_type": "code",
   "execution_count": 11,
   "metadata": {},
   "outputs": [],
   "source": [
    "#Concating the 1st and the 2nd dataset along rows\n",
    "y=pd.concat([cell[[\"irradiance\"]], y],axis=0)"
   ]
  },
  {
   "cell_type": "code",
   "execution_count": 12,
   "metadata": {
    "scrolled": false
   },
   "outputs": [
    {
     "data": {
      "text/plain": [
       "irradiance    16\n",
       "dtype: int64"
      ]
     },
     "execution_count": 12,
     "metadata": {},
     "output_type": "execute_result"
    }
   ],
   "source": [
    "#checking for any null values\n",
    "y.isnull().sum()"
   ]
  },
  {
   "cell_type": "code",
   "execution_count": 13,
   "metadata": {
    "scrolled": true
   },
   "outputs": [],
   "source": [
    "#Dropping the null values as they are very less in number\n",
    "y.dropna(inplace=True)"
   ]
  },
  {
   "cell_type": "code",
   "execution_count": 14,
   "metadata": {
    "scrolled": true
   },
   "outputs": [
    {
     "data": {
      "text/html": [
       "<div>\n",
       "<style scoped>\n",
       "    .dataframe tbody tr th:only-of-type {\n",
       "        vertical-align: middle;\n",
       "    }\n",
       "\n",
       "    .dataframe tbody tr th {\n",
       "        vertical-align: top;\n",
       "    }\n",
       "\n",
       "    .dataframe thead th {\n",
       "        text-align: right;\n",
       "    }\n",
       "</style>\n",
       "<table border=\"1\" class=\"dataframe\">\n",
       "  <thead>\n",
       "    <tr style=\"text-align: right;\">\n",
       "      <th></th>\n",
       "      <th>irradiance</th>\n",
       "    </tr>\n",
       "    <tr>\n",
       "      <th>date_time</th>\n",
       "      <th></th>\n",
       "    </tr>\n",
       "  </thead>\n",
       "  <tbody>\n",
       "    <tr>\n",
       "      <th>2020-08-20 06:05:00+05:30</th>\n",
       "      <td>0.000000</td>\n",
       "    </tr>\n",
       "    <tr>\n",
       "      <th>2020-08-20 06:10:00+05:30</th>\n",
       "      <td>0.000000</td>\n",
       "    </tr>\n",
       "    <tr>\n",
       "      <th>2020-08-20 06:15:00+05:30</th>\n",
       "      <td>0.000000</td>\n",
       "    </tr>\n",
       "    <tr>\n",
       "      <th>2020-08-20 06:20:00+05:30</th>\n",
       "      <td>0.000000</td>\n",
       "    </tr>\n",
       "    <tr>\n",
       "      <th>2020-08-20 06:25:00+05:30</th>\n",
       "      <td>0.000000</td>\n",
       "    </tr>\n",
       "    <tr>\n",
       "      <th>...</th>\n",
       "      <td>...</td>\n",
       "    </tr>\n",
       "    <tr>\n",
       "      <th>2020-10-20 12:40:00+05:30</th>\n",
       "      <td>777.361023</td>\n",
       "    </tr>\n",
       "    <tr>\n",
       "      <th>2020-10-20 12:45:00+05:30</th>\n",
       "      <td>776.673096</td>\n",
       "    </tr>\n",
       "    <tr>\n",
       "      <th>2020-10-20 12:50:00+05:30</th>\n",
       "      <td>770.481690</td>\n",
       "    </tr>\n",
       "    <tr>\n",
       "      <th>2020-10-20 12:55:00+05:30</th>\n",
       "      <td>757.411011</td>\n",
       "    </tr>\n",
       "    <tr>\n",
       "      <th>2020-10-20 13:00:00+05:30</th>\n",
       "      <td>751.563599</td>\n",
       "    </tr>\n",
       "  </tbody>\n",
       "</table>\n",
       "<p>20296 rows × 1 columns</p>\n",
       "</div>"
      ],
      "text/plain": [
       "                           irradiance\n",
       "date_time                            \n",
       "2020-08-20 06:05:00+05:30    0.000000\n",
       "2020-08-20 06:10:00+05:30    0.000000\n",
       "2020-08-20 06:15:00+05:30    0.000000\n",
       "2020-08-20 06:20:00+05:30    0.000000\n",
       "2020-08-20 06:25:00+05:30    0.000000\n",
       "...                               ...\n",
       "2020-10-20 12:40:00+05:30  777.361023\n",
       "2020-10-20 12:45:00+05:30  776.673096\n",
       "2020-10-20 12:50:00+05:30  770.481690\n",
       "2020-10-20 12:55:00+05:30  757.411011\n",
       "2020-10-20 13:00:00+05:30  751.563599\n",
       "\n",
       "[20296 rows x 1 columns]"
      ]
     },
     "execution_count": 14,
     "metadata": {},
     "output_type": "execute_result"
    }
   ],
   "source": [
    "#displaying Y\n",
    "y"
   ]
  },
  {
   "cell_type": "code",
   "execution_count": 15,
   "metadata": {
    "scrolled": true
   },
   "outputs": [
    {
     "data": {
      "text/html": [
       "<div>\n",
       "<style scoped>\n",
       "    .dataframe tbody tr th:only-of-type {\n",
       "        vertical-align: middle;\n",
       "    }\n",
       "\n",
       "    .dataframe tbody tr th {\n",
       "        vertical-align: top;\n",
       "    }\n",
       "\n",
       "    .dataframe thead th {\n",
       "        text-align: right;\n",
       "    }\n",
       "</style>\n",
       "<table border=\"1\" class=\"dataframe\">\n",
       "  <thead>\n",
       "    <tr style=\"text-align: right;\">\n",
       "      <th></th>\n",
       "      <th>irradiance</th>\n",
       "    </tr>\n",
       "    <tr>\n",
       "      <th>date_time</th>\n",
       "      <th></th>\n",
       "    </tr>\n",
       "  </thead>\n",
       "  <tbody>\n",
       "    <tr>\n",
       "      <th>2020-08-20 06:00:00+05:30</th>\n",
       "      <td>0.000000</td>\n",
       "    </tr>\n",
       "    <tr>\n",
       "      <th>2020-08-20 06:30:00+05:30</th>\n",
       "      <td>0.000000</td>\n",
       "    </tr>\n",
       "    <tr>\n",
       "      <th>2020-08-20 07:00:00+05:30</th>\n",
       "      <td>0.000000</td>\n",
       "    </tr>\n",
       "    <tr>\n",
       "      <th>2020-08-20 07:30:00+05:30</th>\n",
       "      <td>30.000000</td>\n",
       "    </tr>\n",
       "    <tr>\n",
       "      <th>2020-08-20 08:00:00+05:30</th>\n",
       "      <td>30.000000</td>\n",
       "    </tr>\n",
       "    <tr>\n",
       "      <th>...</th>\n",
       "      <td>...</td>\n",
       "    </tr>\n",
       "    <tr>\n",
       "      <th>2020-10-20 11:00:00+05:30</th>\n",
       "      <td>482.988785</td>\n",
       "    </tr>\n",
       "    <tr>\n",
       "      <th>2020-10-20 11:30:00+05:30</th>\n",
       "      <td>542.340709</td>\n",
       "    </tr>\n",
       "    <tr>\n",
       "      <th>2020-10-20 12:00:00+05:30</th>\n",
       "      <td>714.179400</td>\n",
       "    </tr>\n",
       "    <tr>\n",
       "      <th>2020-10-20 12:30:00+05:30</th>\n",
       "      <td>771.398950</td>\n",
       "    </tr>\n",
       "    <tr>\n",
       "      <th>2020-10-20 13:00:00+05:30</th>\n",
       "      <td>751.563599</td>\n",
       "    </tr>\n",
       "  </tbody>\n",
       "</table>\n",
       "<p>2943 rows × 1 columns</p>\n",
       "</div>"
      ],
      "text/plain": [
       "                           irradiance\n",
       "date_time                            \n",
       "2020-08-20 06:00:00+05:30    0.000000\n",
       "2020-08-20 06:30:00+05:30    0.000000\n",
       "2020-08-20 07:00:00+05:30    0.000000\n",
       "2020-08-20 07:30:00+05:30   30.000000\n",
       "2020-08-20 08:00:00+05:30   30.000000\n",
       "...                               ...\n",
       "2020-10-20 11:00:00+05:30  482.988785\n",
       "2020-10-20 11:30:00+05:30  542.340709\n",
       "2020-10-20 12:00:00+05:30  714.179400\n",
       "2020-10-20 12:30:00+05:30  771.398950\n",
       "2020-10-20 13:00:00+05:30  751.563599\n",
       "\n",
       "[2943 rows x 1 columns]"
      ]
     },
     "execution_count": 15,
     "metadata": {},
     "output_type": "execute_result"
    }
   ],
   "source": [
    "# Resampling y into 30 mins intervals\n",
    "df=y[\"irradiance\"].resample('30T').mean()\n",
    "df=pd.DataFrame(df)\n",
    "df"
   ]
  },
  {
   "cell_type": "code",
   "execution_count": 16,
   "metadata": {},
   "outputs": [
    {
     "data": {
      "text/plain": [
       "irradiance    37\n",
       "dtype: int64"
      ]
     },
     "execution_count": 16,
     "metadata": {},
     "output_type": "execute_result"
    }
   ],
   "source": [
    "#Checking for null values\n",
    "df.isnull().sum()"
   ]
  },
  {
   "cell_type": "code",
   "execution_count": 17,
   "metadata": {},
   "outputs": [],
   "source": [
    "#dropping the null values as they are very less in number\n",
    "df.dropna(inplace=True)"
   ]
  },
  {
   "cell_type": "code",
   "execution_count": 18,
   "metadata": {},
   "outputs": [],
   "source": [
    "#resetting the index and converting the date_time object type into datetime type\n",
    "df.reset_index(inplace=True)\n",
    "df[\"date_time\"]=pd.to_datetime(df[\"date_time\"])"
   ]
  },
  {
   "cell_type": "code",
   "execution_count": 19,
   "metadata": {},
   "outputs": [
    {
     "data": {
      "text/html": [
       "<div>\n",
       "<style scoped>\n",
       "    .dataframe tbody tr th:only-of-type {\n",
       "        vertical-align: middle;\n",
       "    }\n",
       "\n",
       "    .dataframe tbody tr th {\n",
       "        vertical-align: top;\n",
       "    }\n",
       "\n",
       "    .dataframe thead th {\n",
       "        text-align: right;\n",
       "    }\n",
       "</style>\n",
       "<table border=\"1\" class=\"dataframe\">\n",
       "  <thead>\n",
       "    <tr style=\"text-align: right;\">\n",
       "      <th></th>\n",
       "      <th>date_time</th>\n",
       "      <th>irradiance</th>\n",
       "    </tr>\n",
       "  </thead>\n",
       "  <tbody>\n",
       "    <tr>\n",
       "      <th>0</th>\n",
       "      <td>2020-08-20 06:00:00+05:30</td>\n",
       "      <td>0.000000</td>\n",
       "    </tr>\n",
       "    <tr>\n",
       "      <th>1</th>\n",
       "      <td>2020-08-20 06:30:00+05:30</td>\n",
       "      <td>0.000000</td>\n",
       "    </tr>\n",
       "    <tr>\n",
       "      <th>2</th>\n",
       "      <td>2020-08-20 07:00:00+05:30</td>\n",
       "      <td>0.000000</td>\n",
       "    </tr>\n",
       "    <tr>\n",
       "      <th>3</th>\n",
       "      <td>2020-08-20 07:30:00+05:30</td>\n",
       "      <td>30.000000</td>\n",
       "    </tr>\n",
       "    <tr>\n",
       "      <th>4</th>\n",
       "      <td>2020-08-20 08:00:00+05:30</td>\n",
       "      <td>30.000000</td>\n",
       "    </tr>\n",
       "    <tr>\n",
       "      <th>...</th>\n",
       "      <td>...</td>\n",
       "      <td>...</td>\n",
       "    </tr>\n",
       "    <tr>\n",
       "      <th>2901</th>\n",
       "      <td>2020-10-20 11:00:00+05:30</td>\n",
       "      <td>482.988785</td>\n",
       "    </tr>\n",
       "    <tr>\n",
       "      <th>2902</th>\n",
       "      <td>2020-10-20 11:30:00+05:30</td>\n",
       "      <td>542.340709</td>\n",
       "    </tr>\n",
       "    <tr>\n",
       "      <th>2903</th>\n",
       "      <td>2020-10-20 12:00:00+05:30</td>\n",
       "      <td>714.179400</td>\n",
       "    </tr>\n",
       "    <tr>\n",
       "      <th>2904</th>\n",
       "      <td>2020-10-20 12:30:00+05:30</td>\n",
       "      <td>771.398950</td>\n",
       "    </tr>\n",
       "    <tr>\n",
       "      <th>2905</th>\n",
       "      <td>2020-10-20 13:00:00+05:30</td>\n",
       "      <td>751.563599</td>\n",
       "    </tr>\n",
       "  </tbody>\n",
       "</table>\n",
       "<p>2906 rows × 2 columns</p>\n",
       "</div>"
      ],
      "text/plain": [
       "                     date_time  irradiance\n",
       "0    2020-08-20 06:00:00+05:30    0.000000\n",
       "1    2020-08-20 06:30:00+05:30    0.000000\n",
       "2    2020-08-20 07:00:00+05:30    0.000000\n",
       "3    2020-08-20 07:30:00+05:30   30.000000\n",
       "4    2020-08-20 08:00:00+05:30   30.000000\n",
       "...                        ...         ...\n",
       "2901 2020-10-20 11:00:00+05:30  482.988785\n",
       "2902 2020-10-20 11:30:00+05:30  542.340709\n",
       "2903 2020-10-20 12:00:00+05:30  714.179400\n",
       "2904 2020-10-20 12:30:00+05:30  771.398950\n",
       "2905 2020-10-20 13:00:00+05:30  751.563599\n",
       "\n",
       "[2906 rows x 2 columns]"
      ]
     },
     "execution_count": 19,
     "metadata": {},
     "output_type": "execute_result"
    }
   ],
   "source": [
    "#Displaying the final dataset\n",
    "df"
   ]
  },
  {
   "cell_type": "code",
   "execution_count": 20,
   "metadata": {},
   "outputs": [
    {
     "data": {
      "text/plain": [
       "<matplotlib.axes._subplots.AxesSubplot at 0x27fcc1a2880>"
      ]
     },
     "execution_count": 20,
     "metadata": {},
     "output_type": "execute_result"
    },
    {
     "data": {
      "image/png": "[encoded data removed]",
      "text/plain": [
       "<Figure size 864x360 with 1 Axes>"
      ]
     },
     "metadata": {
      "needs_background": "light"
     },
     "output_type": "display_data"
    }
   ],
   "source": [
    "#Visualizations irradiance vs date\n",
    "df['irradiance'].plot(figsize=(12,5))"
   ]
  },
  {
   "cell_type": "code",
   "execution_count": 21,
   "metadata": {},
   "outputs": [
    {
     "name": "stdout",
     "output_type": "stream",
     "text": [
      "ADF Test Statistic : -19.22331131690524\n",
      "p-value : 0.0\n",
      "#Lags Used : 28\n",
      "Number of Observations Used : 2877\n",
      "strong evidence against the null hypothesis(Ho), Data  is stationary\n"
     ]
    }
   ],
   "source": [
    "#Performing the adfuller_test to check if the data is statinary or not\n",
    "\n",
    "#Ho: It is non stationary\n",
    "#H1: It is stationary\n",
    "\n",
    "def adfuller_test(dataset):\n",
    "    result=adfuller(dataset)\n",
    "    labels = ['ADF Test Statistic','p-value','#Lags Used','Number of Observations Used']\n",
    "    for value,label in zip(result,labels):\n",
    "        print(label+' : '+str(value) )\n",
    "    if result[1] <= 0.05:\n",
    "        print(\"strong evidence against the null hypothesis(Ho), Data  is stationary\")\n",
    "    else:\n",
    "        print(\"weak evidence against null hypothesis, indicating Data is non-stationary \")\n",
    "        \n",
    "adfuller_test(df['irradiance'])"
   ]
  },
  {
   "cell_type": "code",
   "execution_count": 22,
   "metadata": {},
   "outputs": [
    {
     "name": "stdout",
     "output_type": "stream",
     "text": [
      "Performing stepwise search to minimize aic\n",
      " ARIMA(2,0,2)(0,0,0)[0] intercept   : AIC=33226.665, Time=3.08 sec\n",
      " ARIMA(0,0,0)(0,0,0)[0] intercept   : AIC=41057.378, Time=0.03 sec\n",
      " ARIMA(1,0,0)(0,0,0)[0] intercept   : AIC=33779.281, Time=0.16 sec\n",
      " ARIMA(0,0,1)(0,0,0)[0] intercept   : AIC=38056.990, Time=0.59 sec\n",
      " ARIMA(0,0,0)(0,0,0)[0]             : AIC=42226.777, Time=0.02 sec\n",
      " ARIMA(1,0,2)(0,0,0)[0] intercept   : AIC=33615.011, Time=1.42 sec\n",
      " ARIMA(2,0,1)(0,0,0)[0] intercept   : AIC=33236.748, Time=2.13 sec\n",
      " ARIMA(3,0,2)(0,0,0)[0] intercept   : AIC=inf, Time=3.12 sec\n",
      " ARIMA(2,0,3)(0,0,0)[0] intercept   : AIC=33237.335, Time=3.16 sec\n",
      " ARIMA(1,0,1)(0,0,0)[0] intercept   : AIC=33716.976, Time=0.65 sec\n",
      " ARIMA(1,0,3)(0,0,0)[0] intercept   : AIC=33500.470, Time=1.70 sec\n",
      " ARIMA(3,0,1)(0,0,0)[0] intercept   : AIC=33218.178, Time=2.73 sec\n",
      " ARIMA(3,0,0)(0,0,0)[0] intercept   : AIC=33501.069, Time=0.44 sec\n",
      " ARIMA(4,0,1)(0,0,0)[0] intercept   : AIC=33221.466, Time=2.92 sec\n",
      " ARIMA(2,0,0)(0,0,0)[0] intercept   : AIC=33685.641, Time=0.22 sec\n",
      " ARIMA(4,0,0)(0,0,0)[0] intercept   : AIC=33344.736, Time=0.52 sec\n",
      " ARIMA(4,0,2)(0,0,0)[0] intercept   : AIC=inf, Time=3.43 sec\n",
      " ARIMA(3,0,1)(0,0,0)[0]             : AIC=33380.315, Time=0.66 sec\n",
      "\n",
      "Best model:  ARIMA(3,0,1)(0,0,0)[0] intercept\n",
      "Total fit time: 27.111 seconds\n"
     ]
    }
   ],
   "source": [
    "#Running auto arima to find the best arima parameters\n",
    "from pmdarima import auto_arima\n",
    "stepwise_fit = auto_arima(df['irradiance'], trace=True,suppress_warnings=True)"
   ]
  },
  {
   "cell_type": "code",
   "execution_count": 23,
   "metadata": {},
   "outputs": [
    {
     "name": "stdout",
     "output_type": "stream",
     "text": [
      "(2906, 2)\n",
      "(2033, 2) (873, 2)\n"
     ]
    }
   ],
   "source": [
    "#splitting the dataset into train and test set. 30% of the data is reserved in the test set\n",
    "print(df.shape)\n",
    "train=df.iloc[:-873]\n",
    "test=df.iloc[-873:]\n",
    "print(train.shape,test.shape)"
   ]
  },
  {
   "cell_type": "code",
   "execution_count": 24,
   "metadata": {},
   "outputs": [
    {
     "data": {
      "text/html": [
       "<table class=\"simpletable\">\n",
       "<caption>ARMA Model Results</caption>\n",
       "<tr>\n",
       "  <th>Dep. Variable:</th>    <td>irradiance</td>    <th>  No. Observations:  </th>    <td>2033</td>   \n",
       "</tr>\n",
       "<tr>\n",
       "  <th>Model:</th>            <td>ARMA(3, 1)</td>    <th>  Log Likelihood     </th> <td>-11796.338</td>\n",
       "</tr>\n",
       "<tr>\n",
       "  <th>Method:</th>             <td>css-mle</td>     <th>  S.D. of innovations</th>   <td>80.054</td>  \n",
       "</tr>\n",
       "<tr>\n",
       "  <th>Date:</th>          <td>Wed, 06 Jan 2021</td> <th>  AIC                </th>  <td>23604.676</td>\n",
       "</tr>\n",
       "<tr>\n",
       "  <th>Time:</th>              <td>21:10:09</td>     <th>  BIC                </th>  <td>23638.379</td>\n",
       "</tr>\n",
       "<tr>\n",
       "  <th>Sample:</th>                <td>0</td>        <th>  HQIC               </th>  <td>23617.041</td>\n",
       "</tr>\n",
       "<tr>\n",
       "  <th></th>                       <td> </td>        <th>                     </th>      <td> </td>    \n",
       "</tr>\n",
       "</table>\n",
       "<table class=\"simpletable\">\n",
       "<tr>\n",
       "          <td></td>            <th>coef</th>     <th>std err</th>      <th>z</th>      <th>P>|z|</th>  <th>[0.025</th>    <th>0.975]</th>  \n",
       "</tr>\n",
       "<tr>\n",
       "  <th>const</th>            <td>  198.2535</td> <td>    8.820</td> <td>   22.478</td> <td> 0.000</td> <td>  180.967</td> <td>  215.540</td>\n",
       "</tr>\n",
       "<tr>\n",
       "  <th>ar.L1.irradiance</th> <td>    1.7693</td> <td>    0.027</td> <td>   64.398</td> <td> 0.000</td> <td>    1.715</td> <td>    1.823</td>\n",
       "</tr>\n",
       "<tr>\n",
       "  <th>ar.L2.irradiance</th> <td>   -0.6403</td> <td>    0.050</td> <td>  -12.875</td> <td> 0.000</td> <td>   -0.738</td> <td>   -0.543</td>\n",
       "</tr>\n",
       "<tr>\n",
       "  <th>ar.L3.irradiance</th> <td>   -0.1530</td> <td>    0.024</td> <td>   -6.318</td> <td> 0.000</td> <td>   -0.200</td> <td>   -0.106</td>\n",
       "</tr>\n",
       "<tr>\n",
       "  <th>ma.L1.irradiance</th> <td>   -0.8808</td> <td>    0.018</td> <td>  -47.786</td> <td> 0.000</td> <td>   -0.917</td> <td>   -0.845</td>\n",
       "</tr>\n",
       "</table>\n",
       "<table class=\"simpletable\">\n",
       "<caption>Roots</caption>\n",
       "<tr>\n",
       "    <td></td>   <th>            Real</th>  <th>         Imaginary</th> <th>         Modulus</th>  <th>        Frequency</th>\n",
       "</tr>\n",
       "<tr>\n",
       "  <th>AR.1</th> <td>           1.0149</td> <td>          -0.1469j</td> <td>           1.0255</td> <td>          -0.0229</td>\n",
       "</tr>\n",
       "<tr>\n",
       "  <th>AR.2</th> <td>           1.0149</td> <td>          +0.1469j</td> <td>           1.0255</td> <td>           0.0229</td>\n",
       "</tr>\n",
       "<tr>\n",
       "  <th>AR.3</th> <td>          -6.2143</td> <td>          -0.0000j</td> <td>           6.2143</td> <td>          -0.5000</td>\n",
       "</tr>\n",
       "<tr>\n",
       "  <th>MA.1</th> <td>           1.1353</td> <td>          +0.0000j</td> <td>           1.1353</td> <td>           0.0000</td>\n",
       "</tr>\n",
       "</table>"
      ],
      "text/plain": [
       "<class 'statsmodels.iolib.summary.Summary'>\n",
       "\"\"\"\n",
       "                              ARMA Model Results                              \n",
       "==============================================================================\n",
       "Dep. Variable:             irradiance   No. Observations:                 2033\n",
       "Model:                     ARMA(3, 1)   Log Likelihood              -11796.338\n",
       "Method:                       css-mle   S.D. of innovations             80.054\n",
       "Date:                Wed, 06 Jan 2021   AIC                          23604.676\n",
       "Time:                        21:10:09   BIC                          23638.379\n",
       "Sample:                             0   HQIC                         23617.041\n",
       "                                                                              \n",
       "====================================================================================\n",
       "                       coef    std err          z      P>|z|      [0.025      0.975]\n",
       "------------------------------------------------------------------------------------\n",
       "const              198.2535      8.820     22.478      0.000     180.967     215.540\n",
       "ar.L1.irradiance     1.7693      0.027     64.398      0.000       1.715       1.823\n",
       "ar.L2.irradiance    -0.6403      0.050    -12.875      0.000      -0.738      -0.543\n",
       "ar.L3.irradiance    -0.1530      0.024     -6.318      0.000      -0.200      -0.106\n",
       "ma.L1.irradiance    -0.8808      0.018    -47.786      0.000      -0.917      -0.845\n",
       "                                    Roots                                    \n",
       "=============================================================================\n",
       "                  Real          Imaginary           Modulus         Frequency\n",
       "-----------------------------------------------------------------------------\n",
       "AR.1            1.0149           -0.1469j            1.0255           -0.0229\n",
       "AR.2            1.0149           +0.1469j            1.0255            0.0229\n",
       "AR.3           -6.2143           -0.0000j            6.2143           -0.5000\n",
       "MA.1            1.1353           +0.0000j            1.1353            0.0000\n",
       "-----------------------------------------------------------------------------\n",
       "\"\"\""
      ]
     },
     "execution_count": 24,
     "metadata": {},
     "output_type": "execute_result"
    }
   ],
   "source": [
    "#training the model with arima and checking the summary of the coefficients\n",
    "from statsmodels.tsa.arima_model import ARIMA\n",
    "model=ARIMA(train['irradiance'],order=(3,0,1))\n",
    "model=model.fit() #fittng the model\n",
    "model.summary()"
   ]
  },
  {
   "cell_type": "code",
   "execution_count": 25,
   "metadata": {},
   "outputs": [
    {
     "data": {
      "text/plain": [
       "<matplotlib.axes._subplots.AxesSubplot at 0x27fca3aa580>"
      ]
     },
     "execution_count": 25,
     "metadata": {},
     "output_type": "execute_result"
    },
    {
     "data": {
      "image/png": "[encoded data removed]",
      "text/plain": [
       "<Figure size 432x288 with 1 Axes>"
      ]
     },
     "metadata": {
      "needs_background": "light"
     },
     "output_type": "display_data"
    }
   ],
   "source": [
    "#Checking for the predictions\n",
    "start=len(train)\n",
    "end=len(train)+len(test)-1\n",
    "pred=model.predict(start=start,end=end,typ='levels').rename('ARIMA predictions')\n",
    "pred.plot(legend=True)\n",
    "test['irradiance'].plot(legend=True)"
   ]
  },
  {
   "cell_type": "markdown",
   "metadata": {},
   "source": [
    "This happens when historical data doesn't have strong seasonality and the forecasting model finds it difficult to predict the future data points therefore it simply takes the average of the previous values and predict as future. Therefore, getting straight line."
   ]
  },
  {
   "cell_type": "code",
   "execution_count": 26,
   "metadata": {},
   "outputs": [
    {
     "name": "stdout",
     "output_type": "stream",
     "text": [
      "RMSE= 280.0123768940577\n",
      "NRMSE= 1.3727997817643518\n",
      "R2 Score= 0.045991684678579836\n"
     ]
    }
   ],
   "source": [
    "#Performance Measurments\n",
    "\n",
    "mean_y=test['irradiance'].mean() #calculating the mean irradiance\n",
    "\n",
    "rmse=sqrt(mean_squared_error(pred,test['irradiance']))\n",
    "print(\"RMSE=\",rmse)\n",
    "\n",
    "nrmse=rmse/mean_y\n",
    "print(\"NRMSE=\",nrmse)\n",
    "\n",
    "r2 = r2_score(test['irradiance'], pred)\n",
    "print(\"R2 Score=\",r2)"
   ]
  },
  {
   "cell_type": "code",
   "execution_count": 27,
   "metadata": {
    "scrolled": true
   },
   "outputs": [],
   "source": [
    "#training the model with the entire datset.\n",
    "model2=ARIMA(df['irradiance'],order=(3,0,1))\n",
    "model2=model2.fit()"
   ]
  },
  {
   "cell_type": "code",
   "execution_count": 28,
   "metadata": {
    "scrolled": false
   },
   "outputs": [
    {
     "name": "stdout",
     "output_type": "stream",
     "text": [
      "2021-01-06 06:00:00    746.660805\n",
      "2021-01-06 06:30:00    727.112663\n",
      "2021-01-06 07:00:00    697.121578\n",
      "2021-01-06 07:30:00    657.517657\n",
      "2021-01-06 08:00:00    609.665831\n",
      "2021-01-06 08:30:00    555.010444\n",
      "2021-01-06 09:00:00    495.082039\n",
      "2021-01-06 09:30:00    431.454928\n",
      "2021-01-06 10:00:00    365.710796\n",
      "2021-01-06 10:30:00    299.403331\n",
      "2021-01-06 11:00:00    234.025202\n",
      "2021-01-06 11:30:00    170.977941\n",
      "2021-01-06 12:00:00    111.545266\n",
      "2021-01-06 12:30:00     56.870272\n",
      "2021-01-06 13:00:00      7.936804\n",
      "Freq: 30T, Name: ARIMA Predictions, dtype: float64\n"
     ]
    }
   ],
   "source": [
    "#Future date_time calculations\n",
    "index_future_datetime=pd.date_range(\"06:00\", \"13:00\", freq=\"30min\") # Considering 6am to 1pm (According the datsets)\n",
    "pred=model2.predict(start=len(df),end=len(df)+14,typ='levels',).rename('ARIMA Predictions') #6am-1pm=7 hours= 14 half hour intervals\n",
    "pred.index=index_future_datetime\n",
    "print(pred)"
   ]
  },
  {
   "cell_type": "code",
   "execution_count": 29,
   "metadata": {
    "scrolled": true
   },
   "outputs": [
    {
     "data": {
      "text/plain": [
       "<matplotlib.axes._subplots.AxesSubplot at 0x27fca39b970>"
      ]
     },
     "execution_count": 29,
     "metadata": {},
     "output_type": "execute_result"
    },
    {
     "data": {
      "image/png": "[encoded data removed]",
      "text/plain": [
       "<Figure size 864x360 with 1 Axes>"
      ]
     },
     "metadata": {
      "needs_background": "light"
     },
     "output_type": "display_data"
    }
   ],
   "source": [
    "pred.plot(figsize=(12,5),legend=True) #plotting the predictions"
   ]
  },
  {
   "cell_type": "code",
   "execution_count": 33,
   "metadata": {},
   "outputs": [
    {
     "data": {
      "text/plain": [
       "DatetimeIndex(['2021-01-06 06:00:00', '2021-01-06 06:30:00',\n",
       "               '2021-01-06 07:00:00', '2021-01-06 07:30:00',\n",
       "               '2021-01-06 08:00:00', '2021-01-06 08:30:00',\n",
       "               '2021-01-06 09:00:00', '2021-01-06 09:30:00',\n",
       "               '2021-01-06 10:00:00', '2021-01-06 10:30:00',\n",
       "               '2021-01-06 11:00:00', '2021-01-06 11:30:00',\n",
       "               '2021-01-06 12:00:00', '2021-01-06 12:30:00',\n",
       "               '2021-01-06 13:00:00'],\n",
       "              dtype='datetime64[ns]', freq='30T')"
      ]
     },
     "execution_count": 33,
     "metadata": {},
     "output_type": "execute_result"
    }
   ],
   "source": [
    "index_future_datetime"
   ]
  },
  {
   "cell_type": "code",
   "execution_count": 31,
   "metadata": {},
   "outputs": [],
   "source": [
    "predictions = pd.DataFrame(data=pred)"
   ]
  },
  {
   "cell_type": "code",
   "execution_count": 32,
   "metadata": {},
   "outputs": [],
   "source": [
    "#predictions.to_csv(\"ARIMA Predictions.csv\")"
   ]
  }
 ],
 "metadata": {
  "kernelspec": {
   "display_name": "Python 3",
   "language": "python",
   "name": "python3"
  },
  "language_info": {
   "codemirror_mode": {
    "name": "ipython",
    "version": 3
   },
   "file_extension": ".py",
   "mimetype": "text/x-python",
   "name": "python",
   "nbconvert_exporter": "python",
   "pygments_lexer": "ipython3",
   "version": "3.8.3"
  }
 },
 "nbformat": 4,
 "nbformat_minor": 4
}
